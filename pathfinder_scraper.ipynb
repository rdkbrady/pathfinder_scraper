{
 "cells": [
  {
   "cell_type": "code",
   "execution_count": null,
   "metadata": {},
   "outputs": [],
   "source": [
    "import requests\n",
    "from lxml import html, etree\n",
    "from io import StringIO"
   ]
  },
  {
   "cell_type": "code",
   "execution_count": null,
   "metadata": {},
   "outputs": [],
   "source": [
    "xpath = \"//ul[@class = 'ogn-childpages']/li/a/@href\""
   ]
  },
  {
   "cell_type": "code",
   "execution_count": null,
   "metadata": {},
   "outputs": [],
   "source": [
    "r = requests.get('https://www.d20pfsrd.com/bestiary/monster-listings/fey')\n",
    "page = html.parse(StringIO(r.text))\n",
    "urls_to_scrape = page.xpath(xpath)"
   ]
  },
  {
   "cell_type": "markdown",
   "metadata": {},
   "source": [
    "# Scraping the URLs\n",
    "\n",
    "Now that I have a list of URLs to scrape, I'm going to request those pages, do some *light* parsing, and store in Mongo. I'll do a second pass after that to get the information I really want. "
   ]
  },
  {
   "cell_type": "code",
   "execution_count": null,
   "metadata": {},
   "outputs": [],
   "source": [
    "from pymongo import MongoClient\n",
    "from pymongo.errors import DuplicateKeyError\n",
    "import time\n",
    "\n",
    "\n",
    "# connect to the hosted MongoDB instance\n",
    "client = MongoClient('localhost', 27017)\n",
    "db = client.pathfinder\n",
    "raw_pages = db.raw\n"
   ]
  },
  {
   "cell_type": "code",
   "execution_count": null,
   "metadata": {},
   "outputs": [],
   "source": []
  },
  {
   "cell_type": "code",
   "execution_count": null,
   "metadata": {},
   "outputs": [],
   "source": [
    "def get_page(url, retries = 5):\n",
    "    try:\n",
    "        r = requests.get(url)\n",
    "        return(r.text)\n",
    "    except:\n",
    "        if retries > 0:\n",
    "            print(\"Error on request, retrying after 1 second.\")\n",
    "            time.sleep(1)\n",
    "            get_page(url, retries = retries - 1)\n",
    "        else:\n",
    "            print(\"Could not get page. Continuing to next url\")\n",
    "            return"
   ]
  },
  {
   "cell_type": "code",
   "execution_count": null,
   "metadata": {},
   "outputs": [],
   "source": [
    "raw_pages.create_index(\"url\", unique=True)"
   ]
  },
  {
   "cell_type": "code",
   "execution_count": null,
   "metadata": {},
   "outputs": [],
   "source": [
    "def add_page_to_mongo(url, collection):\n",
    "    page_content = get_page(url)\n",
    "    dict_to_add = {\"url\": url, \"content\": page_content}\n",
    "    try:\n",
    "        collection.insert_one(dict_to_add)\n",
    "    except DuplicateKeyError:\n",
    "        print(\"Duplicate key, moving on\")\n",
    "    except:\n",
    "        print(\"Unexpected error for url\".format(url))"
   ]
  },
  {
   "cell_type": "code",
   "execution_count": null,
   "metadata": {},
   "outputs": [],
   "source": [
    "add_page_to_mongo(urls_to_scrape[0], raw_pages)"
   ]
  },
  {
   "cell_type": "code",
   "execution_count": null,
   "metadata": {},
   "outputs": [],
   "source": [
    "for url in urls_to_scrape:\n",
    "    add_page_to_mongo(url, raw_pages)"
   ]
  },
  {
   "cell_type": "markdown",
   "metadata": {},
   "source": [
    "# Parsing the Pages"
   ]
  },
  {
   "cell_type": "code",
   "execution_count": null,
   "metadata": {},
   "outputs": [],
   "source": [
    "page = raw_pages.find_one()"
   ]
  },
  {
   "cell_type": "code",
   "execution_count": null,
   "metadata": {},
   "outputs": [],
   "source": [
    "page['url']"
   ]
  },
  {
   "cell_type": "code",
   "execution_count": null,
   "metadata": {},
   "outputs": [],
   "source": [
    "page_tree = html.parse(StringIO(page[\"content\"]))\n"
   ]
  },
  {
   "cell_type": "code",
   "execution_count": null,
   "metadata": {},
   "outputs": [],
   "source": [
    "e = page_tree.xpath(\"//div[@class='statblock']/p[@class='title']\")[0]\n",
    "e.text"
   ]
  },
  {
   "cell_type": "code",
   "execution_count": null,
   "metadata": {},
   "outputs": [],
   "source": [
    "e = page_tree.xpath(\"//div[@class='statblock']//*[contains(text(),'Senses')]\")[0]\n",
    "e = e.getnext()\n",
    "while(e is not None):\n",
    "    print(e.text)\n",
    "    print(e.tail)\n",
    "    print()\n",
    "    e = e.getnext()    \n"
   ]
  },
  {
   "cell_type": "code",
   "execution_count": null,
   "metadata": {},
   "outputs": [],
   "source": [
    "def monster_parser(url):\n",
    "    page = raw_pages.find_one({\"url\": url})\n",
    "    # name\n",
    "    e = page_tree.xpath(\"//div[@class='statblock']/p[@class='title']\")[0]\n",
    "    name = e.text\n",
    "    \n",
    "    # senses\n",
    "    senses = {}\n",
    "    e = page_tree.xpath(\"//div[@class='statblock']//*[contains(text(),'Senses')]\")[0]\n",
    "    e = e.getnext()\n",
    "    while(e is not None):\n",
    "        senses[e.text] = e.tail\n",
    "        e = e.getnext()    \n",
    "        \n",
    "    return {\"url\": url, \"name\": name, \"senses\": senses}\n"
   ]
  },
  {
   "cell_type": "code",
   "execution_count": null,
   "metadata": {},
   "outputs": [],
   "source": [
    "monster_parser('https://www.d20pfsrd.com/bestiary/monster-listings/fey/alp/')"
   ]
  },
  {
   "cell_type": "code",
   "execution_count": null,
   "metadata": {},
   "outputs": [],
   "source": [
    "monsters = db.monsters\n",
    "monsters.create_index('url')"
   ]
  },
  {
   "cell_type": "code",
   "execution_count": null,
   "metadata": {},
   "outputs": [],
   "source": [
    "url = 'https://www.d20pfsrd.com/bestiary/monster-listings/fey/alp/'\n",
    "monsters.replace_one({\"url\": url}, monster_parser(url), upsert = True)"
   ]
  },
  {
   "cell_type": "code",
   "execution_count": null,
   "metadata": {},
   "outputs": [],
   "source": [
    "for url in urls_to_scrape:\n",
    "    monsters.replace_one({\"url\": url}, monster_parser(url), upsert = True)"
   ]
  },
  {
   "cell_type": "code",
   "execution_count": null,
   "metadata": {},
   "outputs": [],
   "source": [
    "monsters.find_one()"
   ]
  },
  {
   "cell_type": "code",
   "execution_count": null,
   "metadata": {},
   "outputs": [],
   "source": []
  }
 ],
 "metadata": {
  "kernelspec": {
   "display_name": "Python [conda env:datasci]",
   "language": "python",
   "name": "conda-env-datasci-py"
  },
  "language_info": {
   "codemirror_mode": {
    "name": "ipython",
    "version": 3
   },
   "file_extension": ".py",
   "mimetype": "text/x-python",
   "name": "python",
   "nbconvert_exporter": "python",
   "pygments_lexer": "ipython3",
   "version": "3.8.5"
  }
 },
 "nbformat": 4,
 "nbformat_minor": 4
}
